{
 "cells": [
  {
   "cell_type": "markdown",
   "metadata": {},
   "source": [
    "# Utilisation de Python pour résoudre une équation différentielle"
   ]
  },
  {
   "cell_type": "markdown",
   "metadata": {},
   "source": [
    "oscillateur 1D - sans frottements\n",
    "axe Ox orienté vers la droite \n",
    "\n",
    "fichier original : http://culturesciencesphysique.ens-lyon.fr/ressource/chute-libre-python-1.xml"
   ]
  },
  {
   "cell_type": "code",
   "execution_count": null,
   "metadata": {},
   "outputs": [],
   "source": [
    "# installation des bibliothèques\n",
    "!pip install numpy\n",
    "!pip install matplotlib\n",
    "\n",
    "%matplotlib inline"
   ]
  },
  {
   "cell_type": "code",
   "execution_count": null,
   "metadata": {},
   "outputs": [],
   "source": [
    "# import de la bibliothèque maths pour l'exponentielle\n",
    "from math import exp, sqrt\n",
    "# import de la bibliothèque numpy (gestion de matrices et routines mathématiques) en lui donnant le surnom np\n",
    "import numpy as np\n",
    "# import de la bibliothèque matplotlib (graphiques) en lui donnant le surnom plt\n",
    "import matplotlib.pyplot as plt"
   ]
  },
  {
   "cell_type": "markdown",
   "metadata": {},
   "source": [
    "## Initialisation et définition des paramètres de simulation"
   ]
  },
  {
   "cell_type": "code",
   "execution_count": null,
   "metadata": {},
   "outputs": [],
   "source": [
    "# définition du pas de temps = 0,001 seconde\n",
    "dt = 0.001\n",
    "\n",
    "\n",
    "# abscisse initiale du corps (en m)    \n",
    "x_0 = 0.01\n",
    "\n",
    "# masse (en kg)\n",
    "masse = 0.1\n",
    "\n",
    "# constante de raideur du ressort (en N/m)\n",
    "k = 0.2\n",
    "\n",
    "# vitesse  initiale du corps (en m/s)\n",
    "vx_0 = 0"
   ]
  },
  {
   "cell_type": "markdown",
   "metadata": {},
   "source": [
    "# Résolution numérique avec l'utilisation des listes"
   ]
  },
  {
   "cell_type": "markdown",
   "metadata": {},
   "source": [
    "Cette méthode permet de conserver les valeurs dans des listes pour les réutiliser ensuite"
   ]
  },
  {
   "cell_type": "code",
   "execution_count": null,
   "metadata": {},
   "outputs": [],
   "source": [
    "# Initialisation des variables de calcul\n",
    "\n",
    "temps=0\n",
    "\n",
    "# abscisse initiale = x0\n",
    "x = x_0\n",
    "# on crée un vecteur qui va contenir toutes les positions successives au cours du mouvement\n",
    "position = [x]\n",
    "# vitesse  initiale = vx_0\n",
    "vx = vx_0\n",
    "# on crée un vecteur qui va contenir toutes les vitesses successives au cours du mouvement\n",
    "vitesse = [vx]\n",
    "\n",
    "# Calcul du mouvement\n",
    "i = 0        # indice de la boucle\n",
    "\n",
    "# La boucle est exécutée pendant une durée T (s)\n",
    "# calculé pour 3 périodes à partir solution analytique\n",
    "durée = 3*2*3.14*sqrt(masse/k)\n",
    "\n",
    "while (temps < durée ) :\n",
    "    #calcul de l'accélération avec la 2e loi de Newton\n",
    "    ax = -k/masse*x\n",
    "    \n",
    "    vx = vx + ax*dt\n",
    "    vitesse = vitesse + [vx]\n",
    "\n",
    "    x = x + vx*dt\n",
    "    position = position + [x]\n",
    "    \n",
    "    i = i + 1\n",
    "    temps = temps+dt\n",
    "\n",
    "temps = np.linspace(0,i,i+1)*dt    \n"
   ]
  },
  {
   "cell_type": "code",
   "execution_count": null,
   "metadata": {},
   "outputs": [],
   "source": [
    "# Représentation graphique de la vitesse\n",
    "plt.plot(temps,position,\"b.\",label=\"résolution numérique\")"
   ]
  },
  {
   "cell_type": "code",
   "execution_count": null,
   "metadata": {},
   "outputs": [],
   "source": [
    "# Représentation graphique de la trajectoire\n",
    "plt.plot(temps,position,\"bo\",label=\"résolution numérique\")\n",
    "\n",
    "# Résolution analytique\n",
    "nb_pts = int(1000/temps[i])\n",
    "temps_analyt = np.linspace(0,temps[i],nb_pts)\n",
    "x_analyt = x_0*np.cos( (sqrt(k/masse)) *temps_analyt+0)\n",
    "\n",
    "plt.plot(temps_analyt,x_analyt,\"-r\", lw=2.5, label=\"résolution analytique\")\n",
    "plt.legend()\n",
    "plt.title(\"Position   au cours du temps\")\n",
    "plt.xlabel(\"temps (s)\")  \n",
    "plt.ylabel(\"position (m)\")\n",
    "plt.grid(True)"
   ]
  },
  {
   "cell_type": "code",
   "execution_count": null,
   "metadata": {},
   "outputs": [],
   "source": []
  },
  {
   "cell_type": "code",
   "execution_count": null,
   "metadata": {},
   "outputs": [],
   "source": []
  },
  {
   "cell_type": "code",
   "execution_count": null,
   "metadata": {},
   "outputs": [],
   "source": []
  },
  {
   "cell_type": "markdown",
   "metadata": {},
   "source": [
    "Compléments\n"
   ]
  },
  {
   "cell_type": "code",
   "execution_count": null,
   "metadata": {},
   "outputs": [],
   "source": [
    "plt.plot(position,vitesse,\"-r\", lw=2.5 )\n",
    "\n",
    "plt.title(\"Trajectoire dans l'espace des phases\")\n",
    "plt.xlabel(\"position (m)\")  \n",
    "plt.ylabel(\"vitesse (m)\")\n",
    "plt.grid(True)"
   ]
  },
  {
   "cell_type": "code",
   "execution_count": null,
   "metadata": {},
   "outputs": [],
   "source": []
  }
 ],
 "metadata": {
  "kernelspec": {
   "display_name": "Python 3",
   "language": "python",
   "name": "python3"
  },
  "language_info": {
   "codemirror_mode": {
    "name": "ipython",
    "version": 3
   },
   "file_extension": ".py",
   "mimetype": "text/x-python",
   "name": "python",
   "nbconvert_exporter": "python",
   "pygments_lexer": "ipython3",
   "version": "3.7.6"
  }
 },
 "nbformat": 4,
 "nbformat_minor": 4
}
