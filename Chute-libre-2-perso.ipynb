{
 "cells": [
  {
   "cell_type": "markdown",
   "metadata": {},
   "source": [
    "# Utilisation de Python pour résoudre une équation différentielle"
   ]
  },
  {
   "cell_type": "markdown",
   "metadata": {},
   "source": [
    "chute verticale 1D - avec frottements\n",
    "axe Oy orienté vers le bas ainsi : y, vy et ay sont positifs\n",
    "sol situé à la position h avec origine située au point de lacher de l'objet \n",
    "\n",
    "fichier original : http://culturesciencesphysique.ens-lyon.fr/ressource/chute-libre-python-1.xml"
   ]
  },
  {
   "cell_type": "code",
   "execution_count": null,
   "metadata": {},
   "outputs": [],
   "source": [
    "# installation des bibliothèques\n",
    "!pip install numpy\n",
    "!pip install matplotlib\n",
    "\n",
    "%matplotlib inline"
   ]
  },
  {
   "cell_type": "code",
   "execution_count": null,
   "metadata": {},
   "outputs": [],
   "source": [
    "# import de la bibliothèque maths pour l'exponentielle\n",
    "from math import exp\n",
    "# import de la bibliothèque numpy (gestion de matrices et routines mathématiques) en lui donnant le surnom np\n",
    "import numpy as np\n",
    "# import de la bibliothèque matplotlib (graphiques) en lui donnant le surnom plt\n",
    "import matplotlib.pyplot as plt"
   ]
  },
  {
   "cell_type": "markdown",
   "metadata": {},
   "source": [
    "## Initialisation et définition des paramètres de simulation"
   ]
  },
  {
   "cell_type": "code",
   "execution_count": null,
   "metadata": {},
   "outputs": [],
   "source": [
    "# accélération de la pesanteur 9,81 N.m-2\n",
    "g = 9.81\n",
    "\n",
    "# définition du pas de temps = 0,001 seconde\n",
    "dt = 0.001\n",
    "\n",
    "# rayon de la balle (en m)\n",
    "r = 0.003\n",
    "# ordonnée initiale du corps (en m)    \n",
    "y_0 = 0\n",
    "\n",
    "# masse (en kg)\n",
    "masse = 0.007\n",
    "\n",
    "# coefficient de frottements (SI)\n",
    "alpha = 0.05\n",
    "\n",
    "# hauteur de chute (en m)\n",
    "h = 0.5 \n",
    "\n",
    "# vitesse verticale initiale du corps (en m/s)\n",
    "vy_0 = 0"
   ]
  },
  {
   "cell_type": "markdown",
   "metadata": {},
   "source": [
    "## Mise en place de la boucle à éxécuter "
   ]
  },
  {
   "cell_type": "code",
   "execution_count": null,
   "metadata": {
    "jupyter": {
     "source_hidden": true
    }
   },
   "outputs": [],
   "source": [
    "# Initialisation des variables de calcul\n",
    "\n",
    "# ordonnée initiale = y0\n",
    "y = y_0\n",
    "# vitesse verticale initiale = vy_0\n",
    "vy = vy_0\n",
    "\n",
    "# Calcul du mouvement\n",
    "i = 0        # indice de la boucle\n",
    "temps = 0    # compteur de temps\n",
    "\n",
    "# La boucle est exécutée tant que le corps n'a pas touché le sol :\n",
    "# (tant que la position y de son centre d'inertie est supérieure à son rayon)\n",
    "while (y < (h-r) ) :\n",
    "    #calcul de l'accélération avec la 2e loi de Newton\n",
    "    ay = g-alpha/masse*vy\n",
    "    \n",
    "    #calcul de la vitesse \n",
    "    vy = vy + ay*dt\n",
    "    \n",
    "    #calcul de la position\n",
    "    y = y + vy*dt\n",
    "    \n",
    "    i = i + 1\n",
    "    temps = temps + dt\n",
    "    \n",
    "    plt.plot(temps,vy,\"b.\")\n",
    "    \n",
    "plt.title(\"vitesse verticale de la balle au cours du temps\")\n",
    "plt.xlabel(\"temps (s)\")  \n",
    "plt.ylabel(\"vitesse (m)\")\n",
    "plt.grid(True)\n",
    "plt.plot(temps,vy,\"bo\",label=\"résolution numérique\") # on fait apparaitre la légende correpondante\n",
    "\n",
    "print(\"La balle a atteint le sol en\",round(temps,3), \"s\")\n",
    "print(\"Le calcul a réalisé\",i,\"itérations avec un pas de temps de\",dt,\"s\")"
   ]
  },
  {
   "cell_type": "code",
   "execution_count": null,
   "metadata": {},
   "outputs": [],
   "source": [
    "# Initialisation des variables de calcul\n",
    "\n",
    "# ordonnée initiale = y0\n",
    "y = y_0\n",
    "# vitesse verticale initiale = vy_0\n",
    "vy = vy_0\n",
    "\n",
    "# Calcul du mouvement\n",
    "i = 0        # indice de la boucle\n",
    "temps = 0    # compteur de temps\n",
    "\n",
    "# La boucle est exécutée tant que le corps n'a pas touché le sol :\n",
    "# (tant que la position y de son centre d'inertie est supérieure à son rayon)\n",
    "while (y < (h-r) ) :\n",
    "    #calcul de l'accélération avec la 2e loi de Newton\n",
    "    ay = g-alpha/masse*vy\n",
    "    \n",
    "    #calcul de la vitesse \n",
    "    vy = vy + ay*dt\n",
    "    \n",
    "    #calcul de la position\n",
    "    y = y + vy*dt\n",
    "    \n",
    "    i = i + 1\n",
    "    temps = temps + dt\n",
    "    \n",
    "    plt.plot(temps,y,\"b.\")\n",
    "    \n",
    "plt.title(\"position verticale de la balle au cours du temps\")\n",
    "plt.xlabel(\"temps (s)\")  \n",
    "plt.ylabel(\"position (m)\")\n",
    "plt.grid(True)\n",
    "plt.plot(temps,y,\"bo\",label=\"résolution numérique\") # on fait apparaitre la légende correpondante\n",
    "\n",
    "print(\"La balle a atteint le sol en\",round(temps,3), \"s\")\n",
    "print(\"Le calcul a réalisé\",i,\"itérations avec un pas de temps de\",dt,\"s\")"
   ]
  },
  {
   "cell_type": "markdown",
   "metadata": {},
   "source": [
    "## Résolution analytique"
   ]
  },
  {
   "cell_type": "code",
   "execution_count": null,
   "metadata": {},
   "outputs": [],
   "source": [
    "temps_analyt = np.linspace(0,temps,500)   \n",
    "y_analyt =   g * masse/alpha*temps_analyt - g*(masse/alpha)**2*(1-np.exp(-temps_analyt/(masse/alpha))) + y_0\n",
    "\n",
    "plt.title(\"Position verticale de la balle au cours du temps\")\n",
    "plt.xlabel(\"temps (s)\")  \n",
    "plt.ylabel(\"position (m)\")\n",
    "plt.grid(True)\n",
    "plt.plot(temps_analyt,y_analyt,\"-r\", lw=2.5, label=\"résolution analytique\")\n",
    "plt.show()"
   ]
  },
  {
   "cell_type": "markdown",
   "metadata": {},
   "source": [
    "# Résolution numérique avec l'utilisation des listes"
   ]
  },
  {
   "cell_type": "markdown",
   "metadata": {},
   "source": [
    "Cette méthode permet de conserver les valeurs dans des listes pour les réutiliser ensuite"
   ]
  },
  {
   "cell_type": "code",
   "execution_count": null,
   "metadata": {},
   "outputs": [],
   "source": [
    "# import de la bibliothèque numpy (gestion de matrices et routines mathématiques) en lui donnant le surnom np\n",
    "import numpy as np\n",
    "# import de la bibliothèque matplotlib (graphiques) en lui donnant le surnom plt\n",
    "import matplotlib.pyplot as plt"
   ]
  },
  {
   "cell_type": "code",
   "execution_count": null,
   "metadata": {},
   "outputs": [],
   "source": [
    "# accélération de la pesanteur 9,81 N.m-2\n",
    "g = 9.81\n",
    "\n",
    "# définition du pas de temps = 0,001 seconde\n",
    "dt = 0.001\n",
    "\n",
    "# rayon de la balle (en m)\n",
    "r = 0.003\n",
    "# ordonnée initiale du corps (en m)    \n",
    "y_0 = 0\n",
    "\n",
    "# masse (en kg)\n",
    "masse = 0.007\n",
    "\n",
    "# coefficient de frottements (SI)\n",
    "alpha = 0.05\n",
    "\n",
    "# hauteur de chute (en m)\n",
    "h = 0.5 \n",
    "\n",
    "# vitesse verticale initiale du corps (en m/s)\n",
    "vy_0 = 0"
   ]
  },
  {
   "cell_type": "code",
   "execution_count": null,
   "metadata": {},
   "outputs": [],
   "source": [
    "# Initialisation des variables de calcul\n",
    "\n",
    "# ordonnée initiale = y0\n",
    "y = y_0\n",
    "# on crée un vecteur qui va contenir toutes les positions successives au cours du mouvement\n",
    "position_y = [y]\n",
    "# vitesse verticale initiale = vy_0\n",
    "vy = vy_0\n",
    "# on crée un vecteur qui va contenir toutes les vitesses successives au cours du mouvement\n",
    "vitesse_y = [vy]\n",
    "\n",
    "# Calcul du mouvement\n",
    "i = 0        # indice de la boucle\n",
    "\n",
    "# La boucle est exécutée tant que le corps n'a pas touché le sol :\n",
    "# (tant que la position y de son centre d'inertie est supérieure à son rayon)\n",
    "while (y < (h-r) ) :\n",
    "    #calcul de l'accélération avec la 2e loi de Newton\n",
    "    ay = g-alpha/masse*vy\n",
    "    \n",
    "    vy = vy + ay*dt\n",
    "    vitesse_y = vitesse_y + [vy]\n",
    "\n",
    "    y = y + vy*dt\n",
    "    position_y = position_y + [y]\n",
    "    \n",
    "    i = i + 1\n",
    "\n",
    "temps = np.linspace(0,i,i+1)*dt    \n",
    "print(\"La balle a atteint le sol en\",round(temps[i],3), \"s\")\n",
    "print(\"Le calcul a réalisé\",i,\"itérations avec un pas de temps de\",dt,\"s\")"
   ]
  },
  {
   "cell_type": "code",
   "execution_count": null,
   "metadata": {},
   "outputs": [],
   "source": [
    "# des tableaux de nombres sont ainsi stockés en mémoire\n",
    "#position_y"
   ]
  },
  {
   "cell_type": "code",
   "execution_count": null,
   "metadata": {},
   "outputs": [],
   "source": [
    "# Représentation graphique de la vitesse\n",
    "plt.plot(temps,vitesse_y,\"b+\",label=\"résolution numérique\")\n",
    "\n",
    "# Résolution analytique\n",
    "nb_pts = int(1000/temps[i])\n",
    "temps_analyt = np.linspace(0,temps[i],nb_pts)\n",
    "vy_analyt =  g*(masse/alpha) * (1-np.exp(-temps_analyt/(masse/alpha)) )\n",
    "\n",
    "plt.plot(temps_analyt,vy_analyt,\"-r\", lw=2.5, label=\"résolution analytique\")\n",
    "plt.legend()\n",
    "plt.title(\"Vitesse verticale de la balle au cours du temps\")\n",
    "plt.xlabel(\"temps (s)\")  \n",
    "plt.ylabel(\"vitesse (m/s)\")\n",
    "plt.grid(True)"
   ]
  },
  {
   "cell_type": "code",
   "execution_count": null,
   "metadata": {},
   "outputs": [],
   "source": [
    "# Représentation graphique de la trajectoire\n",
    "plt.plot(temps,position_y,\"bo\",label=\"résolution numérique\")\n",
    "\n",
    "# Résolution analytique\n",
    "nb_pts = int(1000/temps[i])\n",
    "temps_analyt = np.linspace(0,temps[i],nb_pts)\n",
    "y_analyt = g * masse/alpha*temps_analyt - g*(masse/alpha)**2*(1-np.exp(-temps_analyt/(masse/alpha))) + y_0 \n",
    "\n",
    "plt.plot(temps_analyt,y_analyt,\"-r\", lw=2.5, label=\"résolution analytique\")\n",
    "plt.legend()\n",
    "plt.title(\"Position verticale de la balle au cours du temps\")\n",
    "plt.xlabel(\"temps (s)\")  \n",
    "plt.ylabel(\"position (m)\")\n",
    "plt.grid(True)"
   ]
  },
  {
   "cell_type": "code",
   "execution_count": null,
   "metadata": {},
   "outputs": [],
   "source": []
  },
  {
   "cell_type": "code",
   "execution_count": null,
   "metadata": {},
   "outputs": [],
   "source": []
  },
  {
   "cell_type": "code",
   "execution_count": null,
   "metadata": {},
   "outputs": [],
   "source": []
  },
  {
   "cell_type": "markdown",
   "metadata": {},
   "source": [
    "Compléments\n"
   ]
  },
  {
   "cell_type": "code",
   "execution_count": null,
   "metadata": {},
   "outputs": [],
   "source": [
    "plt.plot(y_analyt,vy_analyt,\"-r\", lw=2.5 )\n",
    "\n",
    "plt.title(\"Trajectoire dans l'espace des phases\")\n",
    "plt.xlabel(\"position (m)\")  \n",
    "plt.ylabel(\"vitesse (m)\")\n",
    "plt.grid(True)"
   ]
  },
  {
   "cell_type": "code",
   "execution_count": null,
   "metadata": {},
   "outputs": [],
   "source": []
  }
 ],
 "metadata": {
  "kernelspec": {
   "display_name": "Python 3",
   "language": "python",
   "name": "python3"
  },
  "language_info": {
   "codemirror_mode": {
    "name": "ipython",
    "version": 3
   },
   "file_extension": ".py",
   "mimetype": "text/x-python",
   "name": "python",
   "nbconvert_exporter": "python",
   "pygments_lexer": "ipython3",
   "version": "3.7.6"
  }
 },
 "nbformat": 4,
 "nbformat_minor": 4
}
